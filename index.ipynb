{
 "cells": [
  {
   "cell_type": "markdown",
   "metadata": {},
   "source": [
    "# Pixels and their neighbours: Finite volume\n",
    "\n",
    "*Rowan Cockett, Lindsey Heagy and Doug Oldenburg*"
   ]
  },
  {
   "cell_type": "markdown",
   "metadata": {},
   "source": [
    "This notebook uses [Python 2.7](https://docs.python.org/2/) and the open source package [SimPEG](http://simpeg.xyz). [SimPEG](http://simpeg.xyz) can be installed using the python package manager PyPi and running: \n",
    "\n",
    "\n",
    "```\n",
    "pip install SimPEG\n",
    "```\n",
    "\n",
    "Alternatively, these notebooks can be run on the web using binders\n",
    "\n",
    "[![Binder](http://mybinder.org/badge.svg)](http://mybinder.org:/repo/simpeg/tle-finitevolume)\n",
    "\n",
    "This tutorial consists of 3 parts, here, we introduce the problem, in [divergence.ipynb](divergence.ipynb) we build the discrete divergence operator and in [weakformulation.ipynb](weakformulation.ipynb), we discretize and solve the DC equations using weak formulation. \n",
    "\n",
    "**Contents**\n",
    "- [DC Resistivity](#DC-Resistivity)\n",
    "- [mesh](mesh.ipynb)\n",
    "- [divergence](divergence.ipynb)\n",
    "- [weakforulation](weakformulation.ipynb)\n",
    "- [all together now](all_together_now.ipynb)"
   ]
  },
  {
   "cell_type": "markdown",
   "metadata": {},
   "source": [
    "# DC Resistivity"
   ]
  },
  {
   "cell_type": "markdown",
   "metadata": {},
   "source": [
    "<img src=\"./images/DCSurvey.png\" width=60% align=\"center\">\n",
    "\n",
    "<h4 align=\"center\"> Figure 1. Setup of a DC resistivity survey.</h4>\n",
    "\n",
    "DC resistivity surveys obtain information about subsurface electrical conductivity, $\\sigma$. This physical property is often diagnostic in mineral exploration, geotechnical, environmental and hydrogeologic problems, where the target of interest has a significant electrical conductivity contrast from the background. In a DC resistivity survey, steady state currents are set up in the subsurface by injecting current through a positive electrode and completing the circuit with a return electrode. "
   ]
  },
  {
   "cell_type": "markdown",
   "metadata": {},
   "source": [
    "## Deriving the DC equations\n",
    "\n",
    "<img src=\"images/DCEquations.png\" width=70% align=\"center\">\n",
    "<h4 align=\"center\">Figure 2. Derivation of the DC resistivity equations</h4>\n",
    "\n",
    "Conservation of charge (which can be derived by taking the divergence of Ampere’s law at steady state) connects the divergence of the current density everywhere in space to the source term which consists of two point sources, one positive and one negative. The flow of current sets up electric fields according to Ohm’s law, which relates current density to electric fields through the electrical conductivity. From Faraday’s law for steady state fields, we can describe the electric field in terms of a scalar potential, $\\phi$, which we sample at potential electrodes to obtain data in the form of potential differences."
   ]
  },
  {
   "cell_type": "markdown",
   "metadata": {},
   "source": [
    "## The finish line\n",
    "*Where are we going??* \n",
    "\n",
    "Here, we are going to do a run through of how to setup and solve the DC resistivity equations for a 2D problem using [SimPEG](http://simpeg.xyz). This is meant to give you a once-over of the whole picture. We will break down the steps to get here in the series of notebooks that follow..."
   ]
  },
  {
   "cell_type": "code",
   "execution_count": 1,
   "metadata": {
    "collapsed": false
   },
   "outputs": [
    {
     "data": {
      "text/plain": [
       "<matplotlib.figure.Figure at 0x11081a190>"
      ]
     },
     "metadata": {},
     "output_type": "display_data"
    }
   ],
   "source": [
    "# Import numpy, python's n-dimensional array package,\n",
    "# the mesh class with differential operators from SimPEG\n",
    "# matplotlib, the basic python plotting package\n",
    "import numpy as np\n",
    "from SimPEG import Mesh, Utils  \n",
    "import matplotlib.pyplot as plt\n",
    "%matplotlib inline\n",
    "plt.set_cmap(plt.get_cmap('viridis')) # use a nice colormap!"
   ]
  },
  {
   "cell_type": "markdown",
   "metadata": {},
   "source": [
    "### Mesh\n",
    "\n",
    "Where we solve things! See [mesh.ipynb](mesh.ipynb) a discussion of how we construct a mesh and the associated properties we need. "
   ]
  },
  {
   "cell_type": "code",
   "execution_count": 2,
   "metadata": {
    "collapsed": false
   },
   "outputs": [
    {
     "name": "stdout",
     "output_type": "stream",
     "text": [
      "The mesh has 8000 cells.\n"
     ]
    },
    {
     "data": {
      "image/png": "[encoded data removed]",
      "text/plain": [
       "<matplotlib.figure.Figure at 0x110835a10>"
      ]
     },
     "metadata": {},
     "output_type": "display_data"
    }
   ],
   "source": [
    "# Define a unit-cell mesh\n",
    "mesh = Mesh.TensorMesh([100, 80])  # setup a mesh on which to solve\n",
    "print(\"The mesh has {nC} cells.\".format(nC=mesh.nC))\n",
    "\n",
    "mesh.plotGrid()\n",
    "plt.axis('tight');"
   ]
  },
  {
   "cell_type": "markdown",
   "metadata": {},
   "source": [
    "### Physical Property Model\n",
    "\n",
    "Define an electrical conductivity ($\\sigma$) model, on the cell-centers of the mesh. "
   ]
  },
  {
   "cell_type": "code",
   "execution_count": 3,
   "metadata": {
    "collapsed": false
   },
   "outputs": [
    {
     "data": {
      "text/plain": [
       "<matplotlib.text.Text at 0x1132d7310>"
      ]
     },
     "execution_count": 3,
     "metadata": {},
     "output_type": "execute_result"
    },
    {
     "data": {
      "image/png": "[encoded data removed]",
      "text/plain": [
       "<matplotlib.figure.Figure at 0x1131fd950>"
      ]
     },
     "metadata": {},
     "output_type": "display_data"
    }
   ],
   "source": [
    "# model parameters\n",
    "sigma_background = 1.  # Conductivity of the background, S/m\n",
    "sigma_block = 10.  # Conductivity of the block, S/m\n",
    "\n",
    "# add a block to our model\n",
    "x_block = np.r_[0.4, 0.6]\n",
    "y_block = np.r_[0.4, 0.6]\n",
    "\n",
    "# assign them on the mesh\n",
    "sigma = sigma_background * np.ones(mesh.nC)  # create a physical property model \n",
    "\n",
    "block_indices = ((mesh.gridCC[:,0] >= x_block[0]) & # left boundary\n",
    "                 (mesh.gridCC[:,0] <= x_block[1]) & # right boundary\n",
    "                 (mesh.gridCC[:,1] >= y_block[0]) & # bottom boundary\n",
    "                 (mesh.gridCC[:,1] <= y_block[1]))  # top boundary\n",
    "\n",
    "# add the block to the physical property model\n",
    "sigma[block_indices] = sigma_block\n",
    "\n",
    "# plot it!\n",
    "plt.colorbar(mesh.plotImage(sigma)[0])\n",
    "plt.title('electrical conductivity, $\\sigma$')"
   ]
  },
  {
   "cell_type": "markdown",
   "metadata": {},
   "source": [
    "### Define a source\n",
    "\n",
    "Define location of the positive and negative electrodes"
   ]
  },
  {
   "cell_type": "code",
   "execution_count": 4,
   "metadata": {
    "collapsed": false
   },
   "outputs": [
    {
     "data": {
      "text/plain": [
       "<matplotlib.text.Text at 0x113937990>"
      ]
     },
     "execution_count": 4,
     "metadata": {},
     "output_type": "execute_result"
    },
    {
     "data": {
      "image/png": "[encoded data removed]",
      "text/plain": [
       "<matplotlib.figure.Figure at 0x1131fd9d0>"
      ]
     },
     "metadata": {},
     "output_type": "display_data"
    }
   ],
   "source": [
    "# Define a source\n",
    "a_loc, b_loc = np.r_[0.2, 0.5], np.r_[0.8, 0.5]\n",
    "source_locs = [a_loc, b_loc]\n",
    "\n",
    "# locate it on the mesh\n",
    "source_loc_inds = Utils.closestPoints(mesh, source_locs)\n",
    "a_loc_mesh = mesh.gridCC[source_loc_inds[0],:]\n",
    "b_loc_mesh = mesh.gridCC[source_loc_inds[1],:]\n",
    "\n",
    "# plot it\n",
    "plt.colorbar(mesh.plotImage(sigma)[0])\n",
    "plt.plot(a_loc_mesh[0], a_loc_mesh[1],'wv', markersize=8) # a-electrode\n",
    "plt.plot(b_loc_mesh[0], b_loc_mesh[1],'w^', markersize=8) # b-electrode\n",
    "plt.title('electrical conductivity, $\\sigma$')"
   ]
  },
  {
   "cell_type": "markdown",
   "metadata": {},
   "source": [
    "### Assemble and solve the DC system of equations\n",
    "\n",
    "How we construct the divergence operator is discussed in [divergence.ipynb](divergence.ipynb), and the inner product matrix in [weakformulation.ipynb](weakformulation.ipynb). The final system is assembled and discussed in [play.ipynb](play.ipynb) (with widgets!)."
   ]
  },
  {
   "cell_type": "code",
   "execution_count": 5,
   "metadata": {
    "collapsed": false
   },
   "outputs": [],
   "source": [
    "# Assemble and solve the DC resistivity problem\n",
    "Div = mesh.faceDiv\n",
    "Sigma = mesh.getFaceInnerProduct(sigma, invProp=True, invMat=True)\n",
    "Vol = Utils.sdiag(mesh.vol)\n",
    "\n",
    "# assemble the system matrix\n",
    "A = Vol * Div * Sigma * Div.T * Vol\n",
    "\n",
    "# right hand side\n",
    "q = np.zeros(mesh.nC)\n",
    "q[source_loc_inds] = np.r_[+1, -1]"
   ]
  },
  {
   "cell_type": "code",
   "execution_count": 6,
   "metadata": {
    "collapsed": true
   },
   "outputs": [],
   "source": [
    "from SimPEG import Solver # import the default solver (LU)"
   ]
  },
  {
   "cell_type": "code",
   "execution_count": 7,
   "metadata": {
    "collapsed": true
   },
   "outputs": [],
   "source": [
    "# solve the DC resistivity problem\n",
    "Ainv = Solver(A)  # create a matrix that behaves like A inverse\n",
    "phi = Ainv * q"
   ]
  },
  {
   "cell_type": "code",
   "execution_count": 8,
   "metadata": {
    "collapsed": false
   },
   "outputs": [
    {
     "data": {
      "image/png": "[encoded data removed]",
      "text/plain": [
       "<matplotlib.figure.Figure at 0x112c85290>"
      ]
     },
     "metadata": {},
     "output_type": "display_data"
    }
   ],
   "source": [
    "# look at the results!\n",
    "plt.colorbar(mesh.plotImage(phi)[0])\n",
    "plt.title('Electric Potential, $\\phi$');"
   ]
  },
  {
   "cell_type": "markdown",
   "metadata": {},
   "source": [
    "## What just happened!?\n",
    "\n",
    "In the notebooks that follow, we will \n",
    "- define where variables live on the mesh ([mesh.ipynb](mesh.ipynb))\n",
    "- define the discrete divergence ([divergence.ipynb](divergence.ipynb))\n",
    "- use the weak formulation to define a solveable system of equations ([weakformulation.ipynb](weakformulation.ipynb))\n",
    "- solve and play with the DC resistivity equations ([play.ipynb](play.ipynb))"
   ]
  }
 ],
 "metadata": {
  "kernelspec": {
   "display_name": "Python 2",
   "language": "python",
   "name": "python2"
  },
  "language_info": {
   "codemirror_mode": {
    "name": "ipython",
    "version": 2
   },
   "file_extension": ".py",
   "mimetype": "text/x-python",
   "name": "python",
   "nbconvert_exporter": "python",
   "pygments_lexer": "ipython2",
   "version": "2.7.12"
  }
 },
 "nbformat": 4,
 "nbformat_minor": 0
}
